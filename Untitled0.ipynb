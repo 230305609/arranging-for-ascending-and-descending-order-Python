{
  "nbformat": 4,
  "nbformat_minor": 0,
  "metadata": {
    "colab": {
      "provenance": [],
      "authorship_tag": "ABX9TyP93D0GziDZOtJhjcBi+GEO",
      "include_colab_link": true
    },
    "kernelspec": {
      "name": "python3",
      "display_name": "Python 3"
    },
    "language_info": {
      "name": "python"
    }
  },
  "cells": [
    {
      "cell_type": "markdown",
      "metadata": {
        "id": "view-in-github",
        "colab_type": "text"
      },
      "source": [
        "<a href=\"https://colab.research.google.com/github/230305609/arranging-for-ascending-and-descending-order-Python/blob/main/Untitled0.ipynb\" target=\"_parent\"><img src=\"https://colab.research.google.com/assets/colab-badge.svg\" alt=\"Open In Colab\"/></a>"
      ]
    },
    {
      "cell_type": "code",
      "execution_count": 5,
      "metadata": {
        "colab": {
          "base_uri": "https://localhost:8080/"
        },
        "id": "NGXsD5JU5qtX",
        "outputId": "cc11c361-0c95-4444-fe20-9d978d7b2a65"
      },
      "outputs": [
        {
          "output_type": "execute_result",
          "data": {
            "text/plain": [
              "[1, 7, 13, 14, 25]"
            ]
          },
          "metadata": {},
          "execution_count": 5
        }
      ],
      "source": [
        "lista = [53,13,156,104,25,38,39,650,225,143,879,125,182,129,611,404,795,14,7,133,52,741,369,46,528,496,27,346,277,218,100,189,1]\n",
        "\n",
        "#sort coloca em ordem crescente, colocando em ordem crescente\n",
        "lista.sort()\n",
        "#imprimindo os 5 primeiros numeros \n",
        "lista[:5]"
      ]
    },
    {
      "cell_type": "code",
      "source": [
        "lista = [53,13,156,104,25,38,39,650,225,143,879,125,182,129,611,404,795,14,7,133,52,741,369,46,528,496,27,346,277,218,100,189,1]\n",
        "\n",
        "# colocando em ordem descrecente\n",
        "lista.sort(reverse=True)\n",
        "# imprimindo os 5 numeros finais\n",
        "lista[-5:]\n"
      ],
      "metadata": {
        "colab": {
          "base_uri": "https://localhost:8080/"
        },
        "id": "T6arDO7z808Z",
        "outputId": "8b11e3d5-845d-4dee-8acc-64518e523a46"
      },
      "execution_count": 6,
      "outputs": [
        {
          "output_type": "execute_result",
          "data": {
            "text/plain": [
              "[25, 14, 13, 7, 1]"
            ]
          },
          "metadata": {},
          "execution_count": 6
        }
      ]
    }
  ]
}